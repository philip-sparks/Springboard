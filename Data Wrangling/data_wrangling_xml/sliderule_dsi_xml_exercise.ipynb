{
 "cells": [
  {
   "cell_type": "markdown",
   "metadata": {},
   "source": [
    "# XML example and exercise\n",
    "****\n",
    "+ study examples of accessing nodes in XML tree structure  \n",
    "+ work on exercise to be completed and submitted\n",
    "****\n",
    "+ reference: https://docs.python.org/2.7/library/xml.etree.elementtree.html\n",
    "+ data source: http://www.dbis.informatik.uni-goettingen.de/Mondial\n",
    "****"
   ]
  },
  {
   "cell_type": "code",
   "execution_count": 1,
   "metadata": {
    "collapsed": true
   },
   "outputs": [],
   "source": [
    "from xml.etree import ElementTree as ET"
   ]
  },
  {
   "cell_type": "markdown",
   "metadata": {},
   "source": [
    "## XML example\n",
    "\n",
    "+ for details about tree traversal and iterators, see https://docs.python.org/2.7/library/xml.etree.elementtree.html"
   ]
  },
  {
   "cell_type": "code",
   "execution_count": 2,
   "metadata": {
    "collapsed": true
   },
   "outputs": [],
   "source": [
    "document_tree = ET.parse( './data/mondial_database_less.xml' )"
   ]
  },
  {
   "cell_type": "code",
   "execution_count": 3,
   "metadata": {},
   "outputs": [
    {
     "name": "stdout",
     "output_type": "stream",
     "text": [
      "Albania\n",
      "Greece\n",
      "Macedonia\n",
      "Serbia\n",
      "Montenegro\n",
      "Kosovo\n",
      "Andorra\n"
     ]
    }
   ],
   "source": [
    "# print names of all countries\n",
    "for child in document_tree.getroot():\n",
    "    print child.find('name').text"
   ]
  },
  {
   "cell_type": "code",
   "execution_count": 4,
   "metadata": {},
   "outputs": [
    {
     "name": "stdout",
     "output_type": "stream",
     "text": [
      "* Albania: Tirana, Shkodër, Durrës, Vlorë, Elbasan, Korçë\n",
      "* Greece: Komotini, Kavala, Athina, Peiraias, Peristeri, Acharnes, Patra, Kozani, Kerkyra, Ioannina, Thessaloniki, Iraklio, Chania, Ermoupoli, Rhodes, Tripoli, Lamia, Chalkida, Larissa, Volos, Mytilini, Karyes\n",
      "* Macedonia: Skopje, Kumanovo\n",
      "* Serbia: Beograd, Novi Sad, Niš\n",
      "* Montenegro: Podgorica\n",
      "* Kosovo: Prishtine\n",
      "* Andorra: Andorra la Vella\n"
     ]
    }
   ],
   "source": [
    "# print names of all countries and their cities\n",
    "for element in document_tree.iterfind('country'):\n",
    "    print '* ' + element.find('name').text + ':',\n",
    "    capitals_string = ''\n",
    "    for subelement in element.getiterator('city'):\n",
    "        capitals_string += subelement.find('name').text + ', '\n",
    "    print capitals_string[:-2]"
   ]
  },
  {
   "cell_type": "markdown",
   "metadata": {},
   "source": [
    "****\n",
    "## XML Exercises\n",
    "\n",
    "Using data in 'data/mondial_database.xml', the examples above, and refering to https://docs.python.org/2.7/library/xml.etree.elementtree.html, find\n",
    "\n",
    "1. 10 countries with the lowest infant mortality rates\n",
    "2. 10 cities with the largest population\n",
    "3. 10 ethnic groups with the largest overall populations (sum of best/latest estimates over all countries)\n",
    "4. name and country of a) longest river, b) largest lake and c) airport at highest elevation"
   ]
  },
  {
   "cell_type": "code",
   "execution_count": 5,
   "metadata": {
    "collapsed": true
   },
   "outputs": [],
   "source": [
    "# Open Document\n",
    "document = ET.parse( './data/mondial_database.xml' )\n",
    "# document\n",
    "# use this library to sort a dictionary by a specific key\n",
    "from operator import itemgetter\n",
    "# use this library to change convert accented characters into ascii\n",
    "import unicodedata\n",
    "import ast"
   ]
  },
  {
   "cell_type": "markdown",
   "metadata": {},
   "source": [
    "# 10 countries with lowest infant mortality rates"
   ]
  },
  {
   "cell_type": "code",
   "execution_count": 6,
   "metadata": {
    "collapsed": true
   },
   "outputs": [],
   "source": [
    "countries = document.findall(\".//country\")"
   ]
  },
  {
   "cell_type": "code",
   "execution_count": 7,
   "metadata": {},
   "outputs": [
    {
     "name": "stdout",
     "output_type": "stream",
     "text": [
      "[('Albania', 13.19), ('Greece', 4.78), ('Macedonia', 7.9), ('Serbia', 6.16), ('Andorra', 3.69), ('France', 3.31), ('Spain', 3.33), ('Austria', 4.16), ('Czech Republic', 2.63), ('Germany', 3.46)]\n"
     ]
    }
   ],
   "source": [
    "countries_infantMortality_list = [(t.find('name').text, float(t.find('infant_mortality').text)) \n",
    "                                  for t in countries if t.find('infant_mortality') is not None]\n",
    "#print countries_infantMortality_list\n",
    "print countries_infantMortality_list[0:10]"
   ]
  },
  {
   "cell_type": "code",
   "execution_count": 8,
   "metadata": {},
   "outputs": [
    {
     "data": {
      "text/plain": [
       "[('Monaco', 1.81),\n",
       " ('Japan', 2.13),\n",
       " ('Norway', 2.48),\n",
       " ('Bermuda', 2.48),\n",
       " ('Singapore', 2.53),\n",
       " ('Sweden', 2.6),\n",
       " ('Czech Republic', 2.63),\n",
       " ('Hong Kong', 2.73),\n",
       " ('Macao', 3.13),\n",
       " ('Iceland', 3.15)]"
      ]
     },
     "execution_count": 8,
     "metadata": {},
     "output_type": "execute_result"
    }
   ],
   "source": [
    "#sorted_infantMortality_list = \n",
    "countries_infantMortality_list.sort(key = itemgetter(1))\n",
    "countries_infantMortality_list[0:10]"
   ]
  },
  {
   "cell_type": "markdown",
   "metadata": {},
   "source": [
    "# 10 cities with the largest population\n"
   ]
  },
  {
   "cell_type": "code",
   "execution_count": 9,
   "metadata": {
    "collapsed": true
   },
   "outputs": [],
   "source": [
    "cities = document.findall(\".//city\")"
   ]
  },
  {
   "cell_type": "code",
   "execution_count": 10,
   "metadata": {
    "collapsed": true
   },
   "outputs": [],
   "source": [
    "# creating list with cities and their population based on 2011 population\n",
    "cities_list = list()\n",
    "for t in cities:\n",
    "    for i in t.findall('population'):\n",
    "        # use the most current year, if possible\n",
    "        if i.get('year') == '2011':\n",
    "            cities_list.append((t.find('name').text, int(i.text)))\n",
    "            break\n",
    "        elif i.get('year') == None:\n",
    "            # capture population even if no year tags are present\n",
    "            cities_list.append((t.find('name').text, int(i.text)))\n",
    "            break\n",
    "        else:\n",
    "            # compare the remaining years, if most current not present, and choose largest value\n",
    "            max_pop = int(max(t.iterfind('population'), key=lambda p: int(p.attrib['year'])).text)\n",
    "            cities_list.append((t.find('name').text, max_pop))\n",
    "            break"
   ]
  },
  {
   "cell_type": "code",
   "execution_count": 11,
   "metadata": {},
   "outputs": [
    {
     "data": {
      "text/plain": [
       "[('Shanghai', 22315474),\n",
       " ('Istanbul', 13710512),\n",
       " ('Mumbai', 12442373),\n",
       " ('Moskva', 11979529),\n",
       " ('Beijing', 11716620),\n",
       " (u'S\\xe3o Paulo', 11152344),\n",
       " ('Tianjin', 11090314),\n",
       " ('Guangzhou', 11071424),\n",
       " ('Delhi', 11034555),\n",
       " ('Shenzhen', 10358381)]"
      ]
     },
     "execution_count": 11,
     "metadata": {},
     "output_type": "execute_result"
    }
   ],
   "source": [
    "cities_list.sort(key = itemgetter(1), reverse=True)\n",
    "cities_list[0:10]"
   ]
  },
  {
   "cell_type": "markdown",
   "metadata": {},
   "source": [
    "# 10 ethnic groups with the largest overall populations (sum of best/latest estimates over all countries)"
   ]
  },
  {
   "cell_type": "code",
   "execution_count": 12,
   "metadata": {
    "collapsed": true
   },
   "outputs": [],
   "source": [
    "ethnic_list = list()\n",
    "for country in countries:\n",
    "    # extract each country population\n",
    "    country_pop = 0\n",
    "    for j in country.findall('population'):\n",
    "        if j.get('year') == '2011':\n",
    "            country_pop = float(j.text)\n",
    "    # append each ethnic group's percentage to list\n",
    "    for e_group in country.findall('ethnicgroup'):\n",
    "        ethnic_list.append((e_group.text, float(e_group.get('percentage')) * country_pop / 100))\n",
    "#ethnic_list"
   ]
  },
  {
   "cell_type": "code",
   "execution_count": 13,
   "metadata": {
    "collapsed": true
   },
   "outputs": [],
   "source": [
    "# Find unique ethnic group names using set function\n",
    "unique_ethnic_list = set([i for [i,j] in ethnic_list])\n",
    "#unique_ethnic_list"
   ]
  },
  {
   "cell_type": "code",
   "execution_count": 14,
   "metadata": {
    "collapsed": true
   },
   "outputs": [],
   "source": [
    "# Find the sum of each ethnic group\n",
    "ethnic_group_sums = list()\n",
    "for i in unique_ethnic_list:\n",
    "    population_list = [float(y) for (x,y) in ethnic_list if x == i]\n",
    "    #print i, population_list\n",
    "    ethnic_group_sums.append((i, int(sum(population_list))))\n",
    "#ethnic_group_sums"
   ]
  },
  {
   "cell_type": "code",
   "execution_count": 15,
   "metadata": {},
   "outputs": [
    {
     "data": {
      "text/plain": [
       "[('Indo-Aryan', 871815583),\n",
       " ('Dravidian', 302713744),\n",
       " ('African', 166391983),\n",
       " ('Bengali', 146776916),\n",
       " ('German', 74278485),\n",
       " ('English', 52820300),\n",
       " ('Mediterranean Nordic', 46815916),\n",
       " ('Persian', 38326331),\n",
       " ('Polish', 38018419),\n",
       " ('Mongol', 36325649)]"
      ]
     },
     "execution_count": 15,
     "metadata": {},
     "output_type": "execute_result"
    }
   ],
   "source": [
    "# Find 10 largest ethnic groups\n",
    "ethnic_group_sums.sort(key = itemgetter(1), reverse=True)\n",
    "ethnic_group_sums[0:10]"
   ]
  },
  {
   "cell_type": "markdown",
   "metadata": {},
   "source": [
    "# Name and Country of a) longest river, b) largest lake and c) airport at highest elevation"
   ]
  },
  {
   "cell_type": "markdown",
   "metadata": {},
   "source": [
    "# Longest River"
   ]
  },
  {
   "cell_type": "code",
   "execution_count": 16,
   "metadata": {},
   "outputs": [
    {
     "name": "stdout",
     "output_type": "stream",
     "text": [
      "('Amazonas', 'CO BR PE', 6448.0)\n"
     ]
    }
   ],
   "source": [
    "river_name = None\n",
    "river_country = None\n",
    "river_length = 0\n",
    "# Extract into a data frame, then sort using a pandas function\n",
    "for river in document.iterfind('river'):\n",
    "    for length in river.iterfind('length'):\n",
    "        # not sure why you have to type-cast, but you do in order to get the correct values\n",
    "        if river_length < float(length.text):\n",
    "            river_length = float(length.text)\n",
    "            river_country= river.attrib['country']\n",
    "            river_name = river.findtext('name')\n",
    "print(river_name, river_country, river_length)"
   ]
  },
  {
   "cell_type": "markdown",
   "metadata": {},
   "source": [
    "# Largest Lake"
   ]
  },
  {
   "cell_type": "code",
   "execution_count": 17,
   "metadata": {},
   "outputs": [
    {
     "name": "stdout",
     "output_type": "stream",
     "text": [
      "('Caspian Sea', 'R AZ KAZ IR TM', 386400.0)\n"
     ]
    }
   ],
   "source": [
    "lake_name = None\n",
    "lake_country = None\n",
    "lake_area = 0\n",
    "for lake in document.iterfind('lake'):\n",
    "    for area in lake.iterfind('area'):\n",
    "        if lake_area < float(area.text):\n",
    "            lake_area=float(area.text)\n",
    "            lake_country= lake.attrib['country']\n",
    "            lake_name = lake.findtext('name')\n",
    "\n",
    "print(lake_name, lake_country, lake_area)"
   ]
  },
  {
   "cell_type": "code",
   "execution_count": 18,
   "metadata": {
    "collapsed": true
   },
   "outputs": [],
   "source": [
    "#Example of trying to run with one loop failed.\n",
    "#for t in lakes:\n",
    "#    if float(lake_area) < float(t.find('area').text):\n",
    "#        lake_name = t.find('name').text\n",
    "#        lake_country = t.attrib['country']\n",
    "#        lake_area = float(t.find('area').text)"
   ]
  },
  {
   "cell_type": "markdown",
   "metadata": {},
   "source": [
    "# Highest Elevated Airport"
   ]
  },
  {
   "cell_type": "code",
   "execution_count": 19,
   "metadata": {},
   "outputs": [
    {
     "name": "stdout",
     "output_type": "stream",
     "text": [
      "('El Alto Intl', 'BOL', 4063)\n"
     ]
    }
   ],
   "source": [
    "airport_name = None\n",
    "airport_country = None\n",
    "airport_elevation = 0\n",
    "for airport in document.iterfind('airport'):\n",
    "    for elevation in airport.iterfind('elevation'):\n",
    "        # check for null values, as some airports apparently didn't list their elevation\n",
    "        if (elevation.text is not None) and (airport_elevation < int(elevation.text)):\n",
    "            airport_elevation = int(elevation.text)\n",
    "            airport_country= airport.attrib['country']\n",
    "            airport_name = airport.findtext('name')\n",
    "print(airport_name, airport_country, airport_elevation)"
   ]
  }
 ],
 "metadata": {
  "anaconda-cloud": {},
  "kernelspec": {
   "display_name": "Python [Root]",
   "language": "python",
   "name": "Python [Root]"
  },
  "language_info": {
   "codemirror_mode": {
    "name": "ipython",
    "version": 2
   },
   "file_extension": ".py",
   "mimetype": "text/x-python",
   "name": "python",
   "nbconvert_exporter": "python",
   "pygments_lexer": "ipython2",
   "version": "2.7.12"
  }
 },
 "nbformat": 4,
 "nbformat_minor": 1
}
