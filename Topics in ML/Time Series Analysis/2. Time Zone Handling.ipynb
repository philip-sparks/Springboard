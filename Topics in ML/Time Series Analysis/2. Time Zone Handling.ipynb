{
 "cells": [
  {
   "cell_type": "code",
   "execution_count": 1,
   "metadata": {
    "collapsed": true
   },
   "outputs": [],
   "source": [
    "import numpy as np\n",
    "import pandas as pd"
   ]
  },
  {
   "cell_type": "markdown",
   "metadata": {},
   "source": [
    "### pandas Time Zone Information"
   ]
  },
  {
   "cell_type": "code",
   "execution_count": 2,
   "metadata": {},
   "outputs": [
    {
     "name": "stdout",
     "output_type": "stream",
     "text": [
      "None\n"
     ]
    }
   ],
   "source": [
    "rng = pd.date_range('3/6/2018 00:00', periods = 15, freq = 'D')\n",
    "print(rng.tz) # None by default"
   ]
  },
  {
   "cell_type": "code",
   "execution_count": 3,
   "metadata": {},
   "outputs": [
    {
     "data": {
      "text/plain": [
       "<DstTzInfo 'Europe/London' LMT-1 day, 23:59:00 STD>"
      ]
     },
     "execution_count": 3,
     "metadata": {},
     "output_type": "execute_result"
    }
   ],
   "source": [
    "rng_tz = pd.date_range('3/6/2012 00:00', periods = 15, freq = 'D', tz = 'Europe/London')\n",
    "rng_tz.tz"
   ]
  },
  {
   "cell_type": "markdown",
   "metadata": {},
   "source": [
    "### Getting a list of timezones"
   ]
  },
  {
   "cell_type": "code",
   "execution_count": 4,
   "metadata": {},
   "outputs": [
    {
     "name": "stdout",
     "output_type": "stream",
     "text": [
      "436\n"
     ]
    }
   ],
   "source": [
    "from pytz import common_timezones, all_timezones\n",
    "print(len(common_timezones))"
   ]
  },
  {
   "cell_type": "code",
   "execution_count": 5,
   "metadata": {},
   "outputs": [
    {
     "name": "stdout",
     "output_type": "stream",
     "text": [
      "588\n"
     ]
    }
   ],
   "source": [
    "print(len(all_timezones))"
   ]
  },
  {
   "cell_type": "code",
   "execution_count": 6,
   "metadata": {},
   "outputs": [
    {
     "name": "stdout",
     "output_type": "stream",
     "text": [
      "set(['Etc/GMT+9', 'Etc/GMT+8', 'America/Buenos_Aires', 'Etc/GMT+3', 'Etc/GMT+2', 'Etc/GMT+1', 'Etc/GMT+0', 'Etc/GMT+7', 'Etc/GMT+6', 'Etc/GMT+5', 'Etc/GMT+4', 'Asia/Calcutta', 'Australia/South', 'America/Atka', 'America/Coral_Harbour', 'America/Fort_Wayne', 'PRC', 'Asia/Thimbu', 'Africa/Timbuktu', 'Asia/Kashgar', 'HST', 'Hongkong', 'Brazil/DeNoronha', 'Etc/Universal', 'GB', 'WET', 'Canada/Yukon', 'Jamaica', 'America/Indianapolis', 'Pacific/Truk', 'Pacific/Yap', 'America/Santa_Isabel', 'America/Ensenada', 'Brazil/Acre', 'Turkey', 'Asia/Dacca', 'America/Cordoba', 'EET', 'Asia/Harbin', 'Etc/GMT-9', 'Etc/GMT-8', 'Etc/GMT-1', 'Australia/Tasmania', 'Etc/GMT-3', 'Etc/GMT-2', 'Etc/GMT-5', 'Etc/GMT-4', 'Etc/GMT-7', 'Etc/GMT-6', 'Asia/Macao', 'Australia/Canberra', 'ROK', 'Asia/Ujung_Pandang', 'Cuba', 'Asia/Saigon', 'ROC', 'America/Louisville', 'CET', 'America/Porto_Acre', 'Navajo', 'Etc/GMT-13', 'Australia/West', 'Brazil/West', 'Libya', 'Canada/Saskatchewan', 'Etc/UCT', 'Iran', 'GB-Eire', 'Etc/Greenwich', 'Atlantic/Jan_Mayen', 'Portugal', 'Europe/Tiraspol', 'Asia/Katmandu', 'Etc/GMT+11', 'Etc/GMT+10', 'Etc/GMT0', 'Pacific/Ponape', 'Japan', 'Asia/Ulan_Bator', 'Kwajalein', 'Australia/Yancowinna', 'Greenwich', 'America/Mendoza', 'America/Jujuy', 'PST8PDT', 'EST5EDT', 'US/East-Indiana', 'America/Argentina/ComodRivadavia', 'Canada/East-Saskatchewan', 'US/Pacific-New', 'Chile/Continental', 'Asia/Tel_Aviv', 'Asia/Istanbul', 'MST7MDT', 'GMT0', 'Australia/Victoria', 'US/Aleutian', 'Australia/ACT', 'Australia/North', 'US/Samoa', 'US/Michigan', 'Asia/Chungking', 'NZ', 'Asia/Ashkhabad', 'America/Knox_IN', 'America/Catamarca', 'America/Shiprock', 'GMT+0', 'Poland', 'W-SU', 'US/Indiana-Starke', 'Australia/LHI', 'Chile/EasterIsland', 'Universal', 'MET', 'America/Virgin', 'Asia/Chongqing', 'Australia/NSW', 'Etc/Zulu', 'MST', 'Atlantic/Faeroe', 'Etc/GMT-0', 'Israel', 'UCT', 'NZ-CHAT', 'Etc/GMT+12', 'Etc/GMT', 'Iceland', 'Australia/Queensland', 'Europe/Nicosia', 'America/Rosario', 'EST', 'Mexico/BajaNorte', 'Eire', 'Etc/GMT-11', 'Etc/GMT-10', 'Europe/Belfast', 'Etc/GMT-12', 'Etc/GMT-14', 'Mexico/BajaSur', 'Mexico/General', 'CST6CDT', 'GMT-0', 'Pacific/Samoa', 'Zulu', 'Egypt', 'Singapore', 'America/Montreal', 'Etc/UTC', 'Africa/Asmera', 'Brazil/East', 'Antarctica/South_Pole'])\n"
     ]
    }
   ],
   "source": [
    "print(set(all_timezones) - set(common_timezones))"
   ]
  },
  {
   "cell_type": "markdown",
   "metadata": {},
   "source": [
    "### Localizing a timestamp"
   ]
  },
  {
   "cell_type": "code",
   "execution_count": 7,
   "metadata": {},
   "outputs": [
    {
     "data": {
      "text/plain": [
       "Timestamp('2016-07-10 08:50:00')"
      ]
     },
     "execution_count": 7,
     "metadata": {},
     "output_type": "execute_result"
    }
   ],
   "source": [
    "# You can also localize a naive timestamp\n",
    "t_naive = pd.Timestamp('2016-07-10 08:50')\n",
    "t_naive"
   ]
  },
  {
   "cell_type": "code",
   "execution_count": 8,
   "metadata": {},
   "outputs": [
    {
     "data": {
      "text/plain": [
       "Timestamp('2016-07-10 08:50:00-0500', tz='US/Central')"
      ]
     },
     "execution_count": 8,
     "metadata": {},
     "output_type": "execute_result"
    }
   ],
   "source": [
    "t = t_naive.tz_localize(tz = 'US/Central')\n",
    "t"
   ]
  },
  {
   "cell_type": "code",
   "execution_count": 9,
   "metadata": {},
   "outputs": [
    {
     "data": {
      "text/plain": [
       "Timestamp('2016-07-10 22:50:00+0900', tz='Asia/Tokyo')"
      ]
     },
     "execution_count": 9,
     "metadata": {},
     "output_type": "execute_result"
    }
   ],
   "source": [
    "t.tz_convert('Asia/Tokyo')"
   ]
  },
  {
   "cell_type": "markdown",
   "metadata": {},
   "source": [
    "### What's the difference between tz_convert and tz_localize?"
   ]
  },
  {
   "cell_type": "code",
   "execution_count": 10,
   "metadata": {
    "collapsed": true
   },
   "outputs": [],
   "source": [
    "### One converts and the other sets."
   ]
  },
  {
   "cell_type": "markdown",
   "metadata": {},
   "source": [
    "### Ambiguous times"
   ]
  },
  {
   "cell_type": "code",
   "execution_count": 11,
   "metadata": {},
   "outputs": [
    {
     "data": {
      "text/plain": [
       "2018-03-10 00:00:00-06:00    0\n",
       "2018-03-11 00:00:00-06:00    1\n",
       "2018-03-12 00:00:00-05:00    2\n",
       "2018-03-13 00:00:00-05:00    3\n",
       "2018-03-14 00:00:00-05:00    4\n",
       "2018-03-15 00:00:00-05:00    5\n",
       "2018-03-16 00:00:00-05:00    6\n",
       "2018-03-17 00:00:00-05:00    7\n",
       "2018-03-18 00:00:00-05:00    8\n",
       "2018-03-19 00:00:00-05:00    9\n",
       "Freq: D, dtype: int64"
      ]
     },
     "execution_count": 11,
     "metadata": {},
     "output_type": "execute_result"
    }
   ],
   "source": [
    "# how to handle daylight savings?\n",
    "rng = pd.date_range('2018-03-10', periods=10, tz='US/Central')\n",
    "ts = pd.Series(range(10), index=rng)\n",
    "ts"
   ]
  },
  {
   "cell_type": "code",
   "execution_count": 12,
   "metadata": {},
   "outputs": [
    {
     "data": {
      "text/plain": [
       "DatetimeIndex(['2011-11-06 00:00:00', '2011-11-06 01:00:00',\n",
       "               '2011-11-06 02:00:00'],\n",
       "              dtype='datetime64[ns]', freq=None)"
      ]
     },
     "execution_count": 12,
     "metadata": {},
     "output_type": "execute_result"
    }
   ],
   "source": [
    "reg_hourly = pd.DatetimeIndex(['11/06/2011 00:00','11/06/2011 01:00','11/06/2011 02:00'])\n",
    "reg_hourly"
   ]
  },
  {
   "cell_type": "code",
   "execution_count": 13,
   "metadata": {},
   "outputs": [
    {
     "data": {
      "text/plain": [
       "DatetimeIndex(['2011-11-06 00:00:00-05:00', '2011-11-06 01:00:00-05:00',\n",
       "               '2011-11-06 02:00:00-06:00'],\n",
       "              dtype='datetime64[ns, US/Central]', freq=None)"
      ]
     },
     "execution_count": 13,
     "metadata": {},
     "output_type": "execute_result"
    }
   ],
   "source": [
    "reg_hourly.tz_localize('US/Central', ambiguous=True)"
   ]
  },
  {
   "cell_type": "code",
   "execution_count": 14,
   "metadata": {},
   "outputs": [
    {
     "data": {
      "text/plain": [
       "2018-03-10 00:00:00+00:00    0\n",
       "2018-03-11 00:00:00+00:00    1\n",
       "2018-03-12 00:00:00+00:00    2\n",
       "2018-03-13 00:00:00+00:00    3\n",
       "2018-03-14 00:00:00+00:00    4\n",
       "2018-03-15 00:00:00+00:00    5\n",
       "2018-03-16 00:00:00+00:00    6\n",
       "2018-03-17 00:00:00+00:00    7\n",
       "2018-03-18 00:00:00+00:00    8\n",
       "2018-03-19 00:00:00+00:00    9\n",
       "Freq: D, dtype: int64"
      ]
     },
     "execution_count": 14,
     "metadata": {},
     "output_type": "execute_result"
    }
   ],
   "source": [
    "rng = pd.date_range('2018-03-10', periods=10, tz='utc')\n",
    "ts = pd.Series(range(10), index=rng)\n",
    "ts"
   ]
  },
  {
   "cell_type": "code",
   "execution_count": 15,
   "metadata": {},
   "outputs": [
    {
     "data": {
      "text/plain": [
       "2018-03-09 18:00:00-06:00    0\n",
       "2018-03-10 18:00:00-06:00    1\n",
       "2018-03-11 19:00:00-05:00    2\n",
       "2018-03-12 19:00:00-05:00    3\n",
       "2018-03-13 19:00:00-05:00    4\n",
       "2018-03-14 19:00:00-05:00    5\n",
       "2018-03-15 19:00:00-05:00    6\n",
       "2018-03-16 19:00:00-05:00    7\n",
       "2018-03-17 19:00:00-05:00    8\n",
       "2018-03-18 19:00:00-05:00    9\n",
       "Freq: D, dtype: int64"
      ]
     },
     "execution_count": 15,
     "metadata": {},
     "output_type": "execute_result"
    }
   ],
   "source": [
    "ts.tz_convert('US/Central')"
   ]
  }
 ],
 "metadata": {
  "kernelspec": {
   "display_name": "Python [Root]",
   "language": "python",
   "name": "Python [Root]"
  },
  "language_info": {
   "codemirror_mode": {
    "name": "ipython",
    "version": 2
   },
   "file_extension": ".py",
   "mimetype": "text/x-python",
   "name": "python",
   "nbconvert_exporter": "python",
   "pygments_lexer": "ipython2",
   "version": "2.7.12"
  },
  "widgets": {
   "state": {},
   "version": "1.1.1"
  }
 },
 "nbformat": 4,
 "nbformat_minor": 1
}
