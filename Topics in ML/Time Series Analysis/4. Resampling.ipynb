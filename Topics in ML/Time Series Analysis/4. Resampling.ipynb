{
 "cells": [
  {
   "cell_type": "code",
   "execution_count": 1,
   "metadata": {
    "collapsed": true
   },
   "outputs": [],
   "source": [
    "import pandas as pd\n",
    "import numpy as np"
   ]
  },
  {
   "cell_type": "code",
   "execution_count": 2,
   "metadata": {
    "collapsed": true
   },
   "outputs": [],
   "source": [
    "rng = pd.date_range('1/1/2011', periods=72, freq='H')\n",
    "ts = pd.Series(np.random.randn(len(rng)), index=rng)"
   ]
  },
  {
   "cell_type": "code",
   "execution_count": 3,
   "metadata": {
    "collapsed": true
   },
   "outputs": [],
   "source": [
    "converted = ts.asfreq('45Min', method='pad')"
   ]
  },
  {
   "cell_type": "code",
   "execution_count": 4,
   "metadata": {},
   "outputs": [
    {
     "data": {
      "text/plain": [
       "(72,)"
      ]
     },
     "execution_count": 4,
     "metadata": {},
     "output_type": "execute_result"
    }
   ],
   "source": [
    "ts.shape"
   ]
  },
  {
   "cell_type": "code",
   "execution_count": 5,
   "metadata": {},
   "outputs": [
    {
     "data": {
      "text/plain": [
       "(95,)"
      ]
     },
     "execution_count": 5,
     "metadata": {},
     "output_type": "execute_result"
    }
   ],
   "source": [
    "converted.shape"
   ]
  },
  {
   "cell_type": "code",
   "execution_count": 6,
   "metadata": {
    "collapsed": true
   },
   "outputs": [],
   "source": [
    "# Does asfreq change the # of rows?\n",
    "# Yes"
   ]
  },
  {
   "cell_type": "code",
   "execution_count": 7,
   "metadata": {
    "collapsed": true
   },
   "outputs": [],
   "source": [
    "# What do the different methods do?\n",
    "# method : {‘backfill’, ‘bfill’, ‘pad’, ‘ffill’, None}\n",
    "# Backfill == bfill, pad == ffill\n",
    "# These method help interpolate data where missing period exists, either in a backfill or \n",
    "# forward fill method."
   ]
  },
  {
   "cell_type": "code",
   "execution_count": 8,
   "metadata": {
    "collapsed": true
   },
   "outputs": [],
   "source": [
    "# Might any of these methods have pitfalls from a logical point of view?"
   ]
  },
  {
   "cell_type": "code",
   "execution_count": 9,
   "metadata": {
    "collapsed": true
   },
   "outputs": [],
   "source": [
    "# What's the difference between going to a higher frequency and a lower frequency?"
   ]
  },
  {
   "cell_type": "code",
   "execution_count": 10,
   "metadata": {
    "collapsed": true
   },
   "outputs": [],
   "source": [
    "converted = ts.asfreq('90Min', method = 'bfill')"
   ]
  },
  {
   "cell_type": "code",
   "execution_count": 11,
   "metadata": {},
   "outputs": [
    {
     "data": {
      "text/plain": [
       "2011-01-01 02:00:00    0.737972\n",
       "2011-01-01 04:00:00    1.728496\n",
       "2011-01-01 06:00:00   -0.124110\n",
       "2011-01-01 08:00:00   -0.319404\n",
       "2011-01-01 10:00:00    0.064784\n",
       "2011-01-01 12:00:00   -0.742955\n",
       "2011-01-01 14:00:00   -0.633735\n",
       "2011-01-01 16:00:00   -0.500602\n",
       "2011-01-01 18:00:00    0.383804\n",
       "Freq: 2H, dtype: float64"
      ]
     },
     "execution_count": 11,
     "metadata": {},
     "output_type": "execute_result"
    }
   ],
   "source": [
    "ts.resample('2H').mean()[1:10]"
   ]
  },
  {
   "cell_type": "code",
   "execution_count": 12,
   "metadata": {
    "collapsed": true
   },
   "outputs": [],
   "source": [
    "irreg_ts = ts[list(np.random.choice(a = list(range(len(ts))), size = 10, replace = False))]"
   ]
  },
  {
   "cell_type": "code",
   "execution_count": 13,
   "metadata": {},
   "outputs": [
    {
     "data": {
      "text/plain": [
       "2011-01-01 22:00:00   -0.386271\n",
       "2011-01-01 18:00:00   -0.168538\n",
       "2011-01-02 10:00:00   -0.354844\n",
       "2011-01-01 09:00:00    0.851263\n",
       "2011-01-02 00:00:00   -0.310230\n",
       "2011-01-02 08:00:00   -0.105289\n",
       "2011-01-03 14:00:00   -0.875544\n",
       "2011-01-03 02:00:00    0.786812\n",
       "2011-01-03 01:00:00    0.861976\n",
       "2011-01-03 20:00:00   -0.528531\n",
       "dtype: float64"
      ]
     },
     "execution_count": 13,
     "metadata": {},
     "output_type": "execute_result"
    }
   ],
   "source": [
    "irreg_ts"
   ]
  },
  {
   "cell_type": "markdown",
   "metadata": {
    "collapsed": true
   },
   "source": [
    "### What's different logically about going to a higher frequency vs a lower frequency? \n",
    "\n",
    "You'll need to interpolate and fill in data that you may not have.\n",
    "\n",
    "### What do you want to do when switching to a lower freqeuncy that is not logical when switching to a higher frequency?\n",
    "\n",
    "Delete values.\n"
   ]
  },
  {
   "cell_type": "code",
   "execution_count": 14,
   "metadata": {},
   "outputs": [
    {
     "data": {
      "text/plain": [
       "2011-01-01    2.475354\n",
       "2011-01-02   -9.106375\n",
       "2011-01-03   -2.504108\n",
       "Freq: D, dtype: float64"
      ]
     },
     "execution_count": 14,
     "metadata": {},
     "output_type": "execute_result"
    }
   ],
   "source": [
    "ts.resample('D').sum()"
   ]
  },
  {
   "cell_type": "code",
   "execution_count": 15,
   "metadata": {
    "collapsed": true
   },
   "outputs": [],
   "source": [
    "# What if you want to downsample and you don't want to ffill or bfill?\n",
    "# Interpolate, or use None."
   ]
  },
  {
   "cell_type": "code",
   "execution_count": 16,
   "metadata": {
    "collapsed": true
   },
   "outputs": [],
   "source": [
    "# What is the difference between .resample() and .asfreq()? What are some special things you can do with .resample() you can't do with .asfreq()?\n",
    "# .asfreq is pretty limited, .resample() gives more options, either mean, variance, etc."
   ]
  },
  {
   "cell_type": "code",
   "execution_count": 17,
   "metadata": {
    "collapsed": true
   },
   "outputs": [],
   "source": [
    "rng = pd.date_range('1/1/2011', periods=72, freq='H')\n",
    "ts = pd.Series(np.random.randn(len(rng)), index=rng)"
   ]
  },
  {
   "cell_type": "code",
   "execution_count": 18,
   "metadata": {
    "collapsed": true
   },
   "outputs": [],
   "source": [
    "irreg_ts = ts[list(np.random.choice(a = list(range(len(ts))), size = 10, replace = False))]\n",
    "irreg_ts = irreg_ts.sort_index()"
   ]
  },
  {
   "cell_type": "code",
   "execution_count": 19,
   "metadata": {},
   "outputs": [
    {
     "data": {
      "text/plain": [
       "2011-01-01 02:00:00    0.112584\n",
       "2011-01-01 03:00:00    0.112584\n",
       "2011-01-01 04:00:00    0.112584\n",
       "2011-01-01 05:00:00    0.112584\n",
       "2011-01-01 06:00:00    0.112584\n",
       "2011-01-01 07:00:00    0.112584\n",
       "2011-01-01 08:00:00         NaN\n",
       "2011-01-01 09:00:00         NaN\n",
       "2011-01-01 10:00:00         NaN\n",
       "2011-01-01 11:00:00         NaN\n",
       "2011-01-01 12:00:00         NaN\n",
       "2011-01-01 13:00:00         NaN\n",
       "2011-01-01 14:00:00         NaN\n",
       "2011-01-01 15:00:00         NaN\n",
       "2011-01-01 16:00:00    1.312852\n",
       "2011-01-01 17:00:00    1.312852\n",
       "2011-01-01 18:00:00    1.312852\n",
       "2011-01-01 19:00:00    0.651947\n",
       "2011-01-01 20:00:00    0.651947\n",
       "2011-01-01 21:00:00    0.651947\n",
       "2011-01-01 22:00:00    0.651947\n",
       "2011-01-01 23:00:00   -0.070507\n",
       "2011-01-02 00:00:00   -0.070507\n",
       "2011-01-02 01:00:00   -0.070507\n",
       "2011-01-02 02:00:00   -0.070507\n",
       "2011-01-02 03:00:00   -0.070507\n",
       "2011-01-02 04:00:00   -0.070507\n",
       "2011-01-02 05:00:00         NaN\n",
       "2011-01-02 06:00:00         NaN\n",
       "2011-01-02 07:00:00         NaN\n",
       "                         ...   \n",
       "2011-01-02 14:00:00    1.752550\n",
       "2011-01-02 15:00:00    1.752550\n",
       "2011-01-02 16:00:00    1.752550\n",
       "2011-01-02 17:00:00    1.752550\n",
       "2011-01-02 18:00:00    1.752550\n",
       "2011-01-02 19:00:00         NaN\n",
       "2011-01-02 20:00:00         NaN\n",
       "2011-01-02 21:00:00         NaN\n",
       "2011-01-02 22:00:00         NaN\n",
       "2011-01-02 23:00:00    1.158227\n",
       "2011-01-03 00:00:00    1.068124\n",
       "2011-01-03 01:00:00    1.068124\n",
       "2011-01-03 02:00:00    1.068124\n",
       "2011-01-03 03:00:00    1.068124\n",
       "2011-01-03 04:00:00    1.068124\n",
       "2011-01-03 05:00:00    1.068124\n",
       "2011-01-03 06:00:00         NaN\n",
       "2011-01-03 07:00:00         NaN\n",
       "2011-01-03 08:00:00         NaN\n",
       "2011-01-03 09:00:00         NaN\n",
       "2011-01-03 10:00:00         NaN\n",
       "2011-01-03 11:00:00         NaN\n",
       "2011-01-03 12:00:00         NaN\n",
       "2011-01-03 13:00:00         NaN\n",
       "2011-01-03 14:00:00         NaN\n",
       "2011-01-03 15:00:00         NaN\n",
       "2011-01-03 16:00:00   -0.503368\n",
       "2011-01-03 17:00:00   -0.503368\n",
       "2011-01-03 18:00:00   -0.503368\n",
       "2011-01-03 19:00:00    1.245698\n",
       "Freq: H, Length: 66, dtype: float64"
      ]
     },
     "execution_count": 19,
     "metadata": {},
     "output_type": "execute_result"
    }
   ],
   "source": [
    "irreg_ts.resample('H').fillna(method = 'ffill', limit = 5)"
   ]
  },
  {
   "cell_type": "code",
   "execution_count": 20,
   "metadata": {},
   "outputs": [
    {
     "data": {
      "text/plain": [
       "DatetimeIndexResampler [freq=<Hour>, axis=0, closed=left, label=left, convention=start, base=0]"
      ]
     },
     "execution_count": 20,
     "metadata": {},
     "output_type": "execute_result"
    }
   ],
   "source": [
    "irreg_ts.resample('H')"
   ]
  }
 ],
 "metadata": {
  "anaconda-cloud": {},
  "kernelspec": {
   "display_name": "Python [Root]",
   "language": "python",
   "name": "Python [Root]"
  },
  "language_info": {
   "codemirror_mode": {
    "name": "ipython",
    "version": 2
   },
   "file_extension": ".py",
   "mimetype": "text/x-python",
   "name": "python",
   "nbconvert_exporter": "python",
   "pygments_lexer": "ipython2",
   "version": "2.7.12"
  },
  "widgets": {
   "state": {},
   "version": "1.1.1"
  }
 },
 "nbformat": 4,
 "nbformat_minor": 1
}
